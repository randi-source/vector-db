{
  "nbformat": 4,
  "nbformat_minor": 0,
  "metadata": {
    "colab": {
      "provenance": []
    },
    "kernelspec": {
      "name": "python3",
      "display_name": "Python 3"
    },
    "language_info": {
      "name": "python"
    }
  },
  "cells": [
    {
      "cell_type": "markdown",
      "source": [
        "## <b> SQLite Database </b>"
      ],
      "metadata": {
        "id": "6l60BtA4Yh7o"
      }
    },
    {
      "cell_type": "code",
      "execution_count": 1,
      "metadata": {
        "id": "uxV_WabqXr0o"
      },
      "outputs": [],
      "source": [
        "import sqlite3"
      ]
    },
    {
      "cell_type": "code",
      "source": [
        "# create a connection to SQLite DB\n",
        "conn = sqlite3.connect(\"sample.db\")"
      ],
      "metadata": {
        "id": "XKIBIAO5ZC_f"
      },
      "execution_count": 2,
      "outputs": []
    },
    {
      "cell_type": "code",
      "source": [
        "# create a cursor to help us execute the SQL commands\n",
        "cursor = conn.cursor()"
      ],
      "metadata": {
        "id": "VYR0Ao1sZC8u"
      },
      "execution_count": 3,
      "outputs": []
    },
    {
      "cell_type": "code",
      "source": [
        "# create a table\n",
        "# stocks : stock_code, stock_name\n",
        "\n",
        "cursor.execute(\n",
        "    \"\"\"\n",
        "    CREATE TABLE IF NOT EXISTS stocks(\n",
        "      stock_code INTEGER PRIMARY KEY,\n",
        "      stock_name TEXT NOT NULL\n",
        "    )\n",
        "    \"\"\"\n",
        ")"
      ],
      "metadata": {
        "colab": {
          "base_uri": "https://localhost:8080/"
        },
        "id": "qxZHmjyOZC6g",
        "outputId": "eb39fe47-43bd-4a97-c84e-347b335f4921"
      },
      "execution_count": 4,
      "outputs": [
        {
          "output_type": "execute_result",
          "data": {
            "text/plain": [
              "<sqlite3.Cursor at 0x7d2c843a30c0>"
            ]
          },
          "metadata": {},
          "execution_count": 4
        }
      ]
    },
    {
      "cell_type": "code",
      "source": [
        "# insert some data\n",
        "cursor.execute(\n",
        "    \"INSERT INTO stocks (stock_name) VALUES (?)\", ('TESLA',)\n",
        ")"
      ],
      "metadata": {
        "colab": {
          "base_uri": "https://localhost:8080/"
        },
        "id": "jyh8ZYjkZC4O",
        "outputId": "3e32e66e-3010-424c-df1a-2a743734e1d7"
      },
      "execution_count": 5,
      "outputs": [
        {
          "output_type": "execute_result",
          "data": {
            "text/plain": [
              "<sqlite3.Cursor at 0x7d2c843a30c0>"
            ]
          },
          "metadata": {},
          "execution_count": 5
        }
      ]
    },
    {
      "cell_type": "code",
      "source": [
        "cursor.execute(\n",
        "    \"INSERT INTO stocks (stock_name) VALUES (?)\", ('Microsoft',)\n",
        ")"
      ],
      "metadata": {
        "colab": {
          "base_uri": "https://localhost:8080/"
        },
        "id": "tMHtX_JmZC1-",
        "outputId": "71a416c0-b64d-45c2-fd11-a9fd1a934035"
      },
      "execution_count": 6,
      "outputs": [
        {
          "output_type": "execute_result",
          "data": {
            "text/plain": [
              "<sqlite3.Cursor at 0x7d2c843a30c0>"
            ]
          },
          "metadata": {},
          "execution_count": 6
        }
      ]
    },
    {
      "cell_type": "code",
      "source": [
        "# select records\n",
        "cursor.execute(\"SELECT * FROM stocks\")"
      ],
      "metadata": {
        "colab": {
          "base_uri": "https://localhost:8080/"
        },
        "id": "m-NifyfRZCzu",
        "outputId": "5d0ba56b-643f-4de9-8f62-ee257c9bf008"
      },
      "execution_count": 7,
      "outputs": [
        {
          "output_type": "execute_result",
          "data": {
            "text/plain": [
              "<sqlite3.Cursor at 0x7d2c843a30c0>"
            ]
          },
          "metadata": {},
          "execution_count": 7
        }
      ]
    },
    {
      "cell_type": "code",
      "source": [
        "rows = cursor.fetchall()\n",
        "rows"
      ],
      "metadata": {
        "colab": {
          "base_uri": "https://localhost:8080/"
        },
        "id": "InWTDQkSZCxN",
        "outputId": "2d1cdc61-ce6f-40eb-e916-495e80460a6f"
      },
      "execution_count": 8,
      "outputs": [
        {
          "output_type": "execute_result",
          "data": {
            "text/plain": [
              "[(1, 'TESLA'), (2, 'Microsoft')]"
            ]
          },
          "metadata": {},
          "execution_count": 8
        }
      ]
    },
    {
      "cell_type": "code",
      "source": [
        "conn.commit()"
      ],
      "metadata": {
        "id": "z7OieQ_ZZCs9"
      },
      "execution_count": 9,
      "outputs": []
    },
    {
      "cell_type": "code",
      "source": [
        "conn.close()"
      ],
      "metadata": {
        "id": "uKVmxztFZCqm"
      },
      "execution_count": 10,
      "outputs": []
    },
    {
      "cell_type": "markdown",
      "source": [
        "### <b> Using SQLite as vector storage </b>"
      ],
      "metadata": {
        "id": "I-h-NDbTbpYh"
      }
    },
    {
      "cell_type": "code",
      "source": [
        "# vector = array of numbers -> numpy arrays -> [1.2, 2.5, 3.7]\n",
        "# store the information into a bytes format"
      ],
      "metadata": {
        "id": "Tuhr51QNbpCB"
      },
      "execution_count": 11,
      "outputs": []
    },
    {
      "cell_type": "code",
      "source": [
        "import numpy as np"
      ],
      "metadata": {
        "id": "JLhSc7Ynbo_x"
      },
      "execution_count": 12,
      "outputs": []
    },
    {
      "cell_type": "code",
      "source": [
        "conn = sqlite3.connect(\"sample_vector.db\")"
      ],
      "metadata": {
        "id": "iaSX_Xu7bo9h"
      },
      "execution_count": 13,
      "outputs": []
    },
    {
      "cell_type": "code",
      "source": [
        "cursor = conn.cursor()"
      ],
      "metadata": {
        "id": "ySCUNK6Wbo7C"
      },
      "execution_count": 14,
      "outputs": []
    },
    {
      "cell_type": "code",
      "source": [
        "cursor.execute(\n",
        "    \"\"\"\n",
        "    CREATE TABLE IF NOT EXISTS vectors (\n",
        "      vector_id INTEGER PRIMARY KEY,\n",
        "      vector BLOB NOT NULL\n",
        "    )\n",
        "    \"\"\"\n",
        ")"
      ],
      "metadata": {
        "colab": {
          "base_uri": "https://localhost:8080/"
        },
        "id": "-4KTaCq6bo4i",
        "outputId": "c589faee-0ef2-43b8-95cf-eadda12fbc0f"
      },
      "execution_count": 15,
      "outputs": [
        {
          "output_type": "execute_result",
          "data": {
            "text/plain": [
              "<sqlite3.Cursor at 0x7d2c843a2ac0>"
            ]
          },
          "metadata": {},
          "execution_count": 15
        }
      ]
    },
    {
      "cell_type": "code",
      "source": [
        "vect_tsla = np.array([1.3, 3.5, 2.2, 0.9])\n",
        "vect_msft = np.array([2.8, 1.6, 3.8, 2.2])"
      ],
      "metadata": {
        "id": "o_peaKYUZCoX"
      },
      "execution_count": 16,
      "outputs": []
    },
    {
      "cell_type": "code",
      "source": [
        "type(vect_tsla)"
      ],
      "metadata": {
        "colab": {
          "base_uri": "https://localhost:8080/"
        },
        "id": "jm7vTfWqcTVF",
        "outputId": "aa91b100-dd9b-4b4a-d9c5-d7aafa3c2c01"
      },
      "execution_count": 17,
      "outputs": [
        {
          "output_type": "execute_result",
          "data": {
            "text/plain": [
              "numpy.ndarray"
            ]
          },
          "metadata": {},
          "execution_count": 17
        }
      ]
    },
    {
      "cell_type": "code",
      "source": [
        "vect_tsla.tobytes()"
      ],
      "metadata": {
        "colab": {
          "base_uri": "https://localhost:8080/"
        },
        "id": "Jk2rKZzXdrGN",
        "outputId": "e5c7f3eb-d882-4b5c-8a66-94845a44dfd3"
      },
      "execution_count": 18,
      "outputs": [
        {
          "output_type": "execute_result",
          "data": {
            "text/plain": [
              "b'\\xcd\\xcc\\xcc\\xcc\\xcc\\xcc\\xf4?\\x00\\x00\\x00\\x00\\x00\\x00\\x0c@\\x9a\\x99\\x99\\x99\\x99\\x99\\x01@\\xcd\\xcc\\xcc\\xcc\\xcc\\xcc\\xec?'"
            ]
          },
          "metadata": {},
          "execution_count": 18
        }
      ]
    },
    {
      "cell_type": "code",
      "source": [
        "cursor.execute(\"INSERT INTO vectors (vector) VALUES (?)\", (sqlite3.Binary(vect_tsla.tobytes()),))"
      ],
      "metadata": {
        "colab": {
          "base_uri": "https://localhost:8080/"
        },
        "id": "C4pvixG8cTS4",
        "outputId": "336b3c16-8d89-4ed8-e1f5-3ff475e9184d"
      },
      "execution_count": 19,
      "outputs": [
        {
          "output_type": "execute_result",
          "data": {
            "text/plain": [
              "<sqlite3.Cursor at 0x7d2c843a2ac0>"
            ]
          },
          "metadata": {},
          "execution_count": 19
        }
      ]
    },
    {
      "cell_type": "code",
      "source": [
        "cursor.execute(\"INSERT INTO vectors (vector) VALUES (?)\", (sqlite3.Binary(vect_msft.tobytes()),))"
      ],
      "metadata": {
        "colab": {
          "base_uri": "https://localhost:8080/"
        },
        "id": "lD4b88G2cTQt",
        "outputId": "3d412a55-1de4-4101-b032-a4cd3127e0a7"
      },
      "execution_count": 20,
      "outputs": [
        {
          "output_type": "execute_result",
          "data": {
            "text/plain": [
              "<sqlite3.Cursor at 0x7d2c843a2ac0>"
            ]
          },
          "metadata": {},
          "execution_count": 20
        }
      ]
    },
    {
      "cell_type": "code",
      "source": [
        "cursor.execute(\"SELECT * FROM vectors\")"
      ],
      "metadata": {
        "colab": {
          "base_uri": "https://localhost:8080/"
        },
        "id": "gmo3i4YecTOf",
        "outputId": "66baab0b-319c-4bf8-942f-b0cee9732688"
      },
      "execution_count": 21,
      "outputs": [
        {
          "output_type": "execute_result",
          "data": {
            "text/plain": [
              "<sqlite3.Cursor at 0x7d2c843a2ac0>"
            ]
          },
          "metadata": {},
          "execution_count": 21
        }
      ]
    },
    {
      "cell_type": "code",
      "source": [
        "rows = cursor.fetchall()\n",
        "rows"
      ],
      "metadata": {
        "colab": {
          "base_uri": "https://localhost:8080/"
        },
        "id": "euo_-cHNcTL-",
        "outputId": "a4d6768c-fa46-49e1-c440-79391da9aa49"
      },
      "execution_count": 22,
      "outputs": [
        {
          "output_type": "execute_result",
          "data": {
            "text/plain": [
              "[(1,\n",
              "  b'\\xcd\\xcc\\xcc\\xcc\\xcc\\xcc\\xf4?\\x00\\x00\\x00\\x00\\x00\\x00\\x0c@\\x9a\\x99\\x99\\x99\\x99\\x99\\x01@\\xcd\\xcc\\xcc\\xcc\\xcc\\xcc\\xec?'),\n",
              " (2,\n",
              "  b'ffffff\\x06@\\x9a\\x99\\x99\\x99\\x99\\x99\\xf9?ffffff\\x0e@\\x9a\\x99\\x99\\x99\\x99\\x99\\x01@')]"
            ]
          },
          "metadata": {},
          "execution_count": 22
        }
      ]
    },
    {
      "cell_type": "code",
      "source": [
        "# Deserialization"
      ],
      "metadata": {
        "id": "FdujYqZBdYgj"
      },
      "execution_count": 23,
      "outputs": []
    },
    {
      "cell_type": "code",
      "source": [
        "# np.frombuffer"
      ],
      "metadata": {
        "id": "9JVhz7I1dYec"
      },
      "execution_count": 24,
      "outputs": []
    },
    {
      "cell_type": "code",
      "source": [
        "v = np.frombuffer(rows[0][1], dtype=np.float64)\n",
        "v"
      ],
      "metadata": {
        "colab": {
          "base_uri": "https://localhost:8080/"
        },
        "id": "8F_48bLddYcC",
        "outputId": "e4b8beae-9227-4ba3-ca15-c12c6d2f608b"
      },
      "execution_count": 25,
      "outputs": [
        {
          "output_type": "execute_result",
          "data": {
            "text/plain": [
              "array([1.3, 3.5, 2.2, 0.9])"
            ]
          },
          "metadata": {},
          "execution_count": 25
        }
      ]
    },
    {
      "cell_type": "code",
      "source": [
        "vectors = []\n",
        "for row in rows:\n",
        "  v = np.frombuffer(row[1], dtype=np.float64)\n",
        "  vectors.append(v)"
      ],
      "metadata": {
        "id": "C4i1QaAifHvr"
      },
      "execution_count": 26,
      "outputs": []
    },
    {
      "cell_type": "code",
      "source": [
        "vectors"
      ],
      "metadata": {
        "colab": {
          "base_uri": "https://localhost:8080/"
        },
        "id": "7Vy4Pr07fHs7",
        "outputId": "b18d488b-dc8d-40b4-9290-b234a8238ea5"
      },
      "execution_count": 27,
      "outputs": [
        {
          "output_type": "execute_result",
          "data": {
            "text/plain": [
              "[array([1.3, 3.5, 2.2, 0.9]), array([2.8, 1.6, 3.8, 2.2])]"
            ]
          },
          "metadata": {},
          "execution_count": 27
        }
      ]
    },
    {
      "cell_type": "code",
      "source": [
        "# Find nearest vector"
      ],
      "metadata": {
        "id": "C-RYxgVRfENk"
      },
      "execution_count": 28,
      "outputs": []
    },
    {
      "cell_type": "code",
      "source": [
        "q_vector = np.array([2.5, 1.2, 3.5, 5.5])"
      ],
      "metadata": {
        "id": "L9R6JQT_fEKN"
      },
      "execution_count": 29,
      "outputs": []
    },
    {
      "cell_type": "code",
      "source": [
        "cursor.execute(\"\"\"\n",
        "SELECT vector FROM vectors ORDER BY abs(vector - ?) ASC\n",
        "\"\"\", (sqlite3.Binary(q_vector.tobytes()),)\n",
        ")"
      ],
      "metadata": {
        "colab": {
          "base_uri": "https://localhost:8080/"
        },
        "id": "eDFt3kiCfEHg",
        "outputId": "92ff10bf-d051-40f7-b622-ecb178a8e9bd"
      },
      "execution_count": 30,
      "outputs": [
        {
          "output_type": "execute_result",
          "data": {
            "text/plain": [
              "<sqlite3.Cursor at 0x7d2c843a2ac0>"
            ]
          },
          "metadata": {},
          "execution_count": 30
        }
      ]
    },
    {
      "cell_type": "code",
      "source": [
        "res = cursor.fetchone()"
      ],
      "metadata": {
        "id": "cNRszLF4fCyE"
      },
      "execution_count": 31,
      "outputs": []
    },
    {
      "cell_type": "code",
      "source": [
        "res"
      ],
      "metadata": {
        "colab": {
          "base_uri": "https://localhost:8080/"
        },
        "id": "SOW-z9dgfCsV",
        "outputId": "6cdf5372-4a5a-410b-eceb-5f71169528bb"
      },
      "execution_count": 32,
      "outputs": [
        {
          "output_type": "execute_result",
          "data": {
            "text/plain": [
              "(b'\\xcd\\xcc\\xcc\\xcc\\xcc\\xcc\\xf4?\\x00\\x00\\x00\\x00\\x00\\x00\\x0c@\\x9a\\x99\\x99\\x99\\x99\\x99\\x01@\\xcd\\xcc\\xcc\\xcc\\xcc\\xcc\\xec?',)"
            ]
          },
          "metadata": {},
          "execution_count": 32
        }
      ]
    },
    {
      "cell_type": "code",
      "source": [
        "np.frombuffer(res[0], dtype=np.float64)"
      ],
      "metadata": {
        "colab": {
          "base_uri": "https://localhost:8080/"
        },
        "id": "x3_SvQuIfCoz",
        "outputId": "0ad69978-b766-49cb-c0cc-e8435aa5d225"
      },
      "execution_count": 33,
      "outputs": [
        {
          "output_type": "execute_result",
          "data": {
            "text/plain": [
              "array([1.3, 3.5, 2.2, 0.9])"
            ]
          },
          "metadata": {},
          "execution_count": 33
        }
      ]
    }
  ]
}