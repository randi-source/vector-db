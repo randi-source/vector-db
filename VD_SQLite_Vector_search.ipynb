{
  "nbformat": 4,
  "nbformat_minor": 0,
  "metadata": {
    "colab": {
      "provenance": []
    },
    "kernelspec": {
      "name": "python3",
      "display_name": "Python 3"
    },
    "language_info": {
      "name": "python"
    }
  },
  "cells": [
    {
      "cell_type": "markdown",
      "source": [
        "## <b> SQLite Database </b>"
      ],
      "metadata": {
        "id": "6l60BtA4Yh7o"
      }
    },
    {
      "cell_type": "code",
      "execution_count": null,
      "metadata": {
        "id": "uxV_WabqXr0o"
      },
      "outputs": [],
      "source": [
        "import sqlite3"
      ]
    },
    {
      "cell_type": "code",
      "source": [
        "# create a connection to SQLite DB\n",
        "conn = sqlite3.connect(\"sample.db\")"
      ],
      "metadata": {
        "id": "XKIBIAO5ZC_f"
      },
      "execution_count": null,
      "outputs": []
    },
    {
      "cell_type": "code",
      "source": [
        "# create a cursor to help us execute the SQL commands\n",
        "cursor = conn.cursor()"
      ],
      "metadata": {
        "id": "VYR0Ao1sZC8u"
      },
      "execution_count": null,
      "outputs": []
    },
    {
      "cell_type": "code",
      "source": [
        "# create a table\n",
        "# stocks : stock_code, stock_name\n",
        "\n",
        "cursor.execute(\n",
        "    \"\"\"\n",
        "    CREATE TABLE IF NOT EXISTS stocks(\n",
        "      stock_code INTEGER PRIMARY KEY,\n",
        "      stock_name TEXT NOT NULL\n",
        "    )\n",
        "    \"\"\"\n",
        ")"
      ],
      "metadata": {
        "colab": {
          "base_uri": "https://localhost:8080/"
        },
        "id": "qxZHmjyOZC6g",
        "outputId": "b1b8836f-5bd0-4ae6-c172-88f84723a67b"
      },
      "execution_count": null,
      "outputs": [
        {
          "output_type": "execute_result",
          "data": {
            "text/plain": [
              "<sqlite3.Cursor at 0x7cf5f5a030c0>"
            ]
          },
          "metadata": {},
          "execution_count": 4
        }
      ]
    },
    {
      "cell_type": "code",
      "source": [
        "# insert some data\n",
        "cursor.execute(\n",
        "    \"INSERT INTO stocks (stock_name) VALUES (?)\", ('TESLA',)\n",
        ")"
      ],
      "metadata": {
        "colab": {
          "base_uri": "https://localhost:8080/"
        },
        "id": "jyh8ZYjkZC4O",
        "outputId": "ca5d7469-d02a-4ba0-d45c-35ab3cba3281"
      },
      "execution_count": null,
      "outputs": [
        {
          "output_type": "execute_result",
          "data": {
            "text/plain": [
              "<sqlite3.Cursor at 0x7cf5f5a030c0>"
            ]
          },
          "metadata": {},
          "execution_count": 5
        }
      ]
    },
    {
      "cell_type": "code",
      "source": [
        "cursor.execute(\n",
        "    \"INSERT INTO stocks (stock_name) VALUES (?)\", ('Microsoft',)\n",
        ")"
      ],
      "metadata": {
        "colab": {
          "base_uri": "https://localhost:8080/"
        },
        "id": "tMHtX_JmZC1-",
        "outputId": "6b1e2a1a-4623-4c44-a096-7f39f8911707"
      },
      "execution_count": null,
      "outputs": [
        {
          "output_type": "execute_result",
          "data": {
            "text/plain": [
              "<sqlite3.Cursor at 0x7cf5f5a030c0>"
            ]
          },
          "metadata": {},
          "execution_count": 6
        }
      ]
    },
    {
      "cell_type": "code",
      "source": [
        "# select records\n",
        "cursor.execute(\"SELECT * FROM stocks\")"
      ],
      "metadata": {
        "colab": {
          "base_uri": "https://localhost:8080/"
        },
        "id": "m-NifyfRZCzu",
        "outputId": "d2d32c30-68c8-45c5-f95b-ab35e1cc0a4b"
      },
      "execution_count": null,
      "outputs": [
        {
          "output_type": "execute_result",
          "data": {
            "text/plain": [
              "<sqlite3.Cursor at 0x7cf5f5a030c0>"
            ]
          },
          "metadata": {},
          "execution_count": 7
        }
      ]
    },
    {
      "cell_type": "code",
      "source": [
        "rows = cursor.fetchall()\n",
        "rows"
      ],
      "metadata": {
        "colab": {
          "base_uri": "https://localhost:8080/"
        },
        "id": "InWTDQkSZCxN",
        "outputId": "c5352cb4-2eda-45d9-99eb-e527e1f560f4"
      },
      "execution_count": null,
      "outputs": [
        {
          "output_type": "execute_result",
          "data": {
            "text/plain": [
              "[(1, 'TESLA'), (2, 'Microsoft'), (3, 'TESLA'), (4, 'Microsoft')]"
            ]
          },
          "metadata": {},
          "execution_count": 8
        }
      ]
    },
    {
      "cell_type": "code",
      "source": [
        "conn.commit()"
      ],
      "metadata": {
        "id": "z7OieQ_ZZCs9"
      },
      "execution_count": null,
      "outputs": []
    },
    {
      "cell_type": "code",
      "source": [
        "conn.close()"
      ],
      "metadata": {
        "id": "uKVmxztFZCqm"
      },
      "execution_count": null,
      "outputs": []
    },
    {
      "cell_type": "markdown",
      "source": [
        "### <b> Using SQLite as vector storage </b>"
      ],
      "metadata": {
        "id": "I-h-NDbTbpYh"
      }
    },
    {
      "cell_type": "code",
      "source": [
        "# vector = array of numbers -> numpy arrays -> [1.2, 2.5, 3.7]\n",
        "# store the information into a bytes format"
      ],
      "metadata": {
        "id": "Tuhr51QNbpCB"
      },
      "execution_count": null,
      "outputs": []
    },
    {
      "cell_type": "code",
      "source": [
        "import numpy as np"
      ],
      "metadata": {
        "id": "JLhSc7Ynbo_x"
      },
      "execution_count": null,
      "outputs": []
    },
    {
      "cell_type": "code",
      "source": [
        "conn = sqlite3.connect(\"sample_vector.db\")"
      ],
      "metadata": {
        "id": "iaSX_Xu7bo9h"
      },
      "execution_count": null,
      "outputs": []
    },
    {
      "cell_type": "code",
      "source": [
        "cursor = conn.cursor()"
      ],
      "metadata": {
        "id": "ySCUNK6Wbo7C"
      },
      "execution_count": null,
      "outputs": []
    },
    {
      "cell_type": "code",
      "source": [
        "cursor.execute(\n",
        "    \"\"\"\n",
        "    CREATE TABLE IF NOT EXISTS vectors (\n",
        "      vector_id INTEGER PRIMARY KEY,\n",
        "      vector BLOB NOT NULL\n",
        "    )\n",
        "    \"\"\"\n",
        ")"
      ],
      "metadata": {
        "colab": {
          "base_uri": "https://localhost:8080/"
        },
        "id": "-4KTaCq6bo4i",
        "outputId": "f12611a9-ba96-47ac-ea1b-bc6943040fa9"
      },
      "execution_count": null,
      "outputs": [
        {
          "output_type": "execute_result",
          "data": {
            "text/plain": [
              "<sqlite3.Cursor at 0x7cf5f5a02a40>"
            ]
          },
          "metadata": {},
          "execution_count": 15
        }
      ]
    },
    {
      "cell_type": "code",
      "source": [
        "vect_tsla = np.array([1.3, 3.5, 2.2, 0.9])\n",
        "vect_msft = np.array([2.8, 1.6, 3.8, 2.2])"
      ],
      "metadata": {
        "id": "o_peaKYUZCoX"
      },
      "execution_count": null,
      "outputs": []
    },
    {
      "cell_type": "code",
      "source": [
        "type(vect_tsla)"
      ],
      "metadata": {
        "colab": {
          "base_uri": "https://localhost:8080/"
        },
        "id": "jm7vTfWqcTVF",
        "outputId": "9cf0b239-19fd-41c2-e456-03ddd33ac518"
      },
      "execution_count": null,
      "outputs": [
        {
          "output_type": "execute_result",
          "data": {
            "text/plain": [
              "numpy.ndarray"
            ]
          },
          "metadata": {},
          "execution_count": 17
        }
      ]
    },
    {
      "cell_type": "code",
      "source": [
        "vect_tsla.tobytes()"
      ],
      "metadata": {
        "colab": {
          "base_uri": "https://localhost:8080/"
        },
        "id": "Jk2rKZzXdrGN",
        "outputId": "ee78cb4f-208c-48a5-c4f5-a911fb2bbe8b"
      },
      "execution_count": null,
      "outputs": [
        {
          "output_type": "execute_result",
          "data": {
            "text/plain": [
              "b'\\xcd\\xcc\\xcc\\xcc\\xcc\\xcc\\xf4?\\x00\\x00\\x00\\x00\\x00\\x00\\x0c@\\x9a\\x99\\x99\\x99\\x99\\x99\\x01@\\xcd\\xcc\\xcc\\xcc\\xcc\\xcc\\xec?'"
            ]
          },
          "metadata": {},
          "execution_count": 18
        }
      ]
    },
    {
      "cell_type": "code",
      "source": [
        "cursor.execute(\"INSERT INTO vectors (vector) VALUES (?)\", (sqlite3.Binary(vect_tsla.tobytes()),))"
      ],
      "metadata": {
        "colab": {
          "base_uri": "https://localhost:8080/"
        },
        "id": "C4pvixG8cTS4",
        "outputId": "1e2f2ca4-0fcb-44ce-bce5-6613ba3bb0cb"
      },
      "execution_count": null,
      "outputs": [
        {
          "output_type": "execute_result",
          "data": {
            "text/plain": [
              "<sqlite3.Cursor at 0x7cf5f5a02a40>"
            ]
          },
          "metadata": {},
          "execution_count": 19
        }
      ]
    },
    {
      "cell_type": "code",
      "source": [
        "cursor.execute(\"INSERT INTO vectors (vector) VALUES (?)\", (sqlite3.Binary(vect_msft.tobytes()),))"
      ],
      "metadata": {
        "colab": {
          "base_uri": "https://localhost:8080/"
        },
        "id": "lD4b88G2cTQt",
        "outputId": "c3cc506a-2c4f-4b43-8780-6558de613e28"
      },
      "execution_count": null,
      "outputs": [
        {
          "output_type": "execute_result",
          "data": {
            "text/plain": [
              "<sqlite3.Cursor at 0x7cf5f5a02a40>"
            ]
          },
          "metadata": {},
          "execution_count": 20
        }
      ]
    },
    {
      "cell_type": "code",
      "source": [
        "cursor.execute(\"SELECT * FROM vectors\")"
      ],
      "metadata": {
        "colab": {
          "base_uri": "https://localhost:8080/"
        },
        "id": "gmo3i4YecTOf",
        "outputId": "1fa83f45-1b65-4afc-b5f3-af38c89d50a1"
      },
      "execution_count": null,
      "outputs": [
        {
          "output_type": "execute_result",
          "data": {
            "text/plain": [
              "<sqlite3.Cursor at 0x7cf5f5a02a40>"
            ]
          },
          "metadata": {},
          "execution_count": 21
        }
      ]
    },
    {
      "cell_type": "code",
      "source": [
        "rows = cursor.fetchall()\n",
        "rows"
      ],
      "metadata": {
        "colab": {
          "base_uri": "https://localhost:8080/"
        },
        "id": "euo_-cHNcTL-",
        "outputId": "7d8f9ffc-3fca-4903-a307-c078dd55dc61"
      },
      "execution_count": null,
      "outputs": [
        {
          "output_type": "execute_result",
          "data": {
            "text/plain": [
              "[(1,\n",
              "  b'\\xcd\\xcc\\xcc\\xcc\\xcc\\xcc\\xf4?\\x00\\x00\\x00\\x00\\x00\\x00\\x0c@\\x9a\\x99\\x99\\x99\\x99\\x99\\x01@\\xcd\\xcc\\xcc\\xcc\\xcc\\xcc\\xec?'),\n",
              " (2,\n",
              "  b'ffffff\\x06@\\x9a\\x99\\x99\\x99\\x99\\x99\\xf9?ffffff\\x0e@\\x9a\\x99\\x99\\x99\\x99\\x99\\x01@')]"
            ]
          },
          "metadata": {},
          "execution_count": 22
        }
      ]
    },
    {
      "cell_type": "code",
      "source": [
        "# Deserialization"
      ],
      "metadata": {
        "id": "FdujYqZBdYgj"
      },
      "execution_count": null,
      "outputs": []
    },
    {
      "cell_type": "code",
      "source": [
        "# np.frombuffer"
      ],
      "metadata": {
        "id": "9JVhz7I1dYec"
      },
      "execution_count": null,
      "outputs": []
    },
    {
      "cell_type": "code",
      "source": [
        "v = np.frombuffer(rows[0][1], dtype=np.float64)\n",
        "v"
      ],
      "metadata": {
        "colab": {
          "base_uri": "https://localhost:8080/"
        },
        "id": "8F_48bLddYcC",
        "outputId": "cb8099bb-19fe-4631-93fc-da291f0d0919"
      },
      "execution_count": null,
      "outputs": [
        {
          "output_type": "execute_result",
          "data": {
            "text/plain": [
              "array([1.3, 3.5, 2.2, 0.9])"
            ]
          },
          "metadata": {},
          "execution_count": 27
        }
      ]
    },
    {
      "cell_type": "code",
      "source": [
        "vectors = []\n",
        "for row in rows:\n",
        "  v = np.frombuffer(row[1], dtype=np.float64)\n",
        "  vectors.append(v)"
      ],
      "metadata": {
        "id": "C4i1QaAifHvr"
      },
      "execution_count": null,
      "outputs": []
    },
    {
      "cell_type": "code",
      "source": [
        "vectors"
      ],
      "metadata": {
        "colab": {
          "base_uri": "https://localhost:8080/"
        },
        "id": "7Vy4Pr07fHs7",
        "outputId": "1edde54d-1067-434b-ef4b-deaab9388f26"
      },
      "execution_count": null,
      "outputs": [
        {
          "output_type": "execute_result",
          "data": {
            "text/plain": [
              "[array([1.3, 3.5, 2.2, 0.9]), array([2.8, 1.6, 3.8, 2.2])]"
            ]
          },
          "metadata": {},
          "execution_count": 31
        }
      ]
    }
  ]
}